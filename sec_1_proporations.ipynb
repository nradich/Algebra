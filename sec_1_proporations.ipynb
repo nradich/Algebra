{
 "cells": [
  {
   "cell_type": "markdown",
   "metadata": {},
   "source": [
    "### Class resources\n",
    "https://github.com/edatfreecodecamp/python-math/blob/main/Algebra-with-Python/Week-02-code.ipynb"
   ]
  },
  {
   "cell_type": "markdown",
   "metadata": {},
   "source": [
    "#### Proporations"
   ]
  },
  {
   "cell_type": "markdown",
   "metadata": {},
   "source": [
    "Cross multiplication ie (2/4) * (5/10)\n",
    "\n",
    "works for converting"
   ]
  },
  {
   "cell_type": "markdown",
   "metadata": {},
   "source": [
    "### Had to install Anaconda, create virtual environment, then hook up to VS code"
   ]
  },
  {
   "cell_type": "markdown",
   "metadata": {},
   "source": [
    "`conda activate algebra`"
   ]
  },
  {
   "cell_type": "markdown",
   "metadata": {},
   "source": [
    "#### Setting up a proporation\n",
    "\n",
    "$$ \\frac{n1}{d1} = \\frac{n2}{d2} $$\n",
    "\n",
    "all about ratios\n"
   ]
  },
  {
   "cell_type": "markdown",
   "metadata": {},
   "source": [
    "### Code Setup"
   ]
  },
  {
   "cell_type": "code",
   "execution_count": null,
   "metadata": {},
   "outputs": [],
   "source": [
    "#put a zero for unknown value\n",
    "n1=1\n",
    "d1=2\n",
    "n2=4\n",
    "d2=0 \n",
    "\n",
    "if n2 == 0:\n",
    "    answer = d2 * n1/d1 \n",
    "    print(\"n2 = \", answer)\n",
    "if d2 == 0:\n",
    "    answer = n2 * d1 / n1\n",
    "    print(\"d2 = \", answer)"
   ]
  },
  {
   "cell_type": "code",
   "execution_count": null,
   "metadata": {},
   "outputs": [],
   "source": [
    "#Python knowns order of operations \n",
    "1+ 2/3 + 3 + 4/5 -7"
   ]
  },
  {
   "cell_type": "markdown",
   "metadata": {},
   "source": [
    "### Extra Practice"
   ]
  },
  {
   "cell_type": "code",
   "execution_count": null,
   "metadata": {},
   "outputs": [],
   "source": [
    "# converts string input (including fractions) to float\n",
    "def string_frac(in_string):\n",
    "    if \"/\" in in_string:\n",
    "        nd = in_string.split(\"/\")\n",
    "        n = float(nd[0])\n",
    "        d = float(nd[1])\n",
    "        ans = n/d\n",
    "        return ans\n",
    "    else:\n",
    "        ans = float(in_string)\n",
    "        return ans\n",
    "\n",
    "\n",
    "# Proportions - unknown numerator\n",
    "def proportions_n():\n",
    "    import random\n",
    "    # Uses string_frac() function\n",
    "    n1 = random.randint(1,21)\n",
    "    d1 = random.randint(1,21)\n",
    "    n2 = \"x\"\n",
    "    d2 = random.randint(1,21)\n",
    "    print(n1, \"\\t\\t\", n2)\n",
    "    print(\"--- \\t = \\t ---\")\n",
    "    print(d1, \"\\t\\t\", d2)\n",
    "    print(\" \")\n",
    "    ans_in = input(\"x = \")\n",
    "    answer = d2*n1/d1\n",
    "    if string_frac(ans_in)==answer:\n",
    "        print(\"Correct! \\n\")\n",
    "    else:\n",
    "        print(\"Try again\")\n",
    "        print(\"The correct answer is \", answer, \"\\n\")\n",
    "\n",
    "\n",
    "# Proportions - unknown denominator\n",
    "def proportions_d():\n",
    "    import random\n",
    "    # Uses string_frac() function\n",
    "    n1 = random.randint(1,21)\n",
    "    d1 = random.randint(1,21)\n",
    "    n2 = random.randint(1,21)\n",
    "    d2 = \"x\"\n",
    "    print(n1, \"\\t\\t\", n2)\n",
    "    print(\"--- \\t = \\t ---\")\n",
    "    print(d1, \"\\t\\t\", d2)\n",
    "    print(\" \")\n",
    "    ans_in = input(\"x = \")\n",
    "    answer = d1*n2/n1\n",
    "    if string_frac(ans_in)==answer:\n",
    "        print(\"Correct! \\n\")\n",
    "    else:\n",
    "        print(\"Try again\")\n",
    "        print(\"The correct answer is \", answer, \"\\n\")\n",
    "\n",
    "\n",
    "# test loop\n",
    "for a in range(2):\n",
    "    proportions_n()\n",
    "    proportions_d()\n",
    "    print(\" \")\n"
   ]
  },
  {
   "cell_type": "code",
   "execution_count": null,
   "metadata": {},
   "outputs": [],
   "source": [
    "proportions_n()"
   ]
  },
  {
   "cell_type": "code",
   "execution_count": null,
   "metadata": {},
   "outputs": [],
   "source": [
    "\"\""
   ]
  }
 ],
 "metadata": {
  "kernelspec": {
   "display_name": "Python 3",
   "language": "python",
   "name": "python3"
  },
  "language_info": {
   "codemirror_mode": {
    "name": "ipython",
    "version": 3
   },
   "file_extension": ".py",
   "mimetype": "text/x-python",
   "name": "python",
   "nbconvert_exporter": "python",
   "pygments_lexer": "ipython3",
   "version": "3.11.4"
  },
  "orig_nbformat": 4
 },
 "nbformat": 4,
 "nbformat_minor": 2
}
